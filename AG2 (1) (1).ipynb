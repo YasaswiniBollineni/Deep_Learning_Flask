{
  "cells": [
    {
      "cell_type": "markdown",
      "metadata": {
        "id": "3DY9VDEUPEGH"
      },
      "source": [
        "**1)UNZIP THE FRUITS FOLDER**"
      ]
    },
    {
      "cell_type": "code",
      "execution_count": 1,
      "metadata": {
        "id": "hSPJjJr6DzOG"
      },
      "outputs": [],
      "source": [
        "# Mount Google drive then Run\n",
        "\n",
        "\n",
        "!unzip -q '/content/drive/MyDrive/Fruit.zip' -d ata"
      ]
    },
    {
      "cell_type": "markdown",
      "source": [
        "**Explanation:**\n",
        "The command `!unzip -q '/content/drive/MyDrive/Fruit.zip' -d ata` is used to\n",
        "extract files from the `Fruit.zip` archive located in Google Drive.\n",
        "The `-q` option suppresses the extraction output for a cleaner terminal display.\n",
        "The files are extracted to a directory named `ata`.  \n",
        "\n",
        "\n"
      ],
      "metadata": {
        "id": "qn_LDWq1Dq6Y"
      }
    },
    {
      "cell_type": "markdown",
      "metadata": {
        "id": "civuWDKaONm6"
      },
      "source": [
        "**2)Mount the Drive**"
      ]
    },
    {
      "cell_type": "code",
      "execution_count": 2,
      "metadata": {
        "colab": {
          "base_uri": "https://localhost:8080/"
        },
        "id": "HaXv5F1VNCra",
        "outputId": "76c4fc19-693c-4d4c-c37e-9f95e7d4759a"
      },
      "outputs": [
        {
          "output_type": "stream",
          "name": "stdout",
          "text": [
            "Drive already mounted at /content/drive; to attempt to forcibly remount, call drive.mount(\"/content/drive\", force_remount=True).\n"
          ]
        }
      ],
      "source": [
        "from google.colab import drive\n",
        "drive.mount('/content/drive')"
      ]
    },
    {
      "cell_type": "markdown",
      "source": [
        "**Explanation**\n",
        "- The code imports the `drive` module from `google.colab` and mounts Google Drive to the `/content/drive` directory.\n",
        "- This allows access to Google Drive files within the Colab environment after user authorization."
      ],
      "metadata": {
        "id": "xNk_AZ4ME7EV"
      }
    },
    {
      "cell_type": "markdown",
      "metadata": {
        "id": "_ADooxRWQBjB"
      },
      "source": [
        "**3)Install keras packages**"
      ]
    },
    {
      "cell_type": "code",
      "execution_count": 3,
      "metadata": {
        "colab": {
          "base_uri": "https://localhost:8080/"
        },
        "id": "DDXG5MtEyLjZ",
        "outputId": "a41918d7-e883-4282-e349-9e1b6420267a"
      },
      "outputs": [
        {
          "output_type": "stream",
          "name": "stdout",
          "text": [
            "\u001b[?25l   \u001b[90m━━━━━━━━━━━━━━━━━━━━━━━━━━━━━━━━━━━━━━━━\u001b[0m \u001b[32m0.0/650.7 kB\u001b[0m \u001b[31m?\u001b[0m eta \u001b[36m-:--:--\u001b[0m\r\u001b[2K   \u001b[91m━━━━━━━━━━━━━━━━━━━━━━━━━━━━━━━━━━━━━━━\u001b[0m\u001b[91m╸\u001b[0m \u001b[32m645.1/650.7 kB\u001b[0m \u001b[31m19.1 MB/s\u001b[0m eta \u001b[36m0:00:01\u001b[0m\r\u001b[2K   \u001b[90m━━━━━━━━━━━━━━━━━━━━━━━━━━━━━━━━━━━━━━━━\u001b[0m \u001b[32m650.7/650.7 kB\u001b[0m \u001b[31m13.5 MB/s\u001b[0m eta \u001b[36m0:00:00\u001b[0m\n",
            "\u001b[?25h\u001b[?25l   \u001b[90m━━━━━━━━━━━━━━━━━━━━━━━━━━━━━━━━━━━━━━━━\u001b[0m \u001b[32m0.0/950.8 kB\u001b[0m \u001b[31m?\u001b[0m eta \u001b[36m-:--:--\u001b[0m\r\u001b[2K   \u001b[90m━━━━━━━━━━━━━━━━━━━━━━━━━━━━━━━━━━━━━━━━\u001b[0m \u001b[32m950.8/950.8 kB\u001b[0m \u001b[31m43.7 MB/s\u001b[0m eta \u001b[36m0:00:00\u001b[0m\n",
            "\u001b[?25h"
          ]
        }
      ],
      "source": [
        "!pip install --upgrade --quiet keras-cv\n",
        "!pip install --upgrade --quiet keras"
      ]
    },
    {
      "cell_type": "markdown",
      "source": [
        "**Explanation**\n",
        "- **Keras**: An open-source deep learning framework in Python that provides a user-friendly API for building and training neural networks, facilitating fast experimentation with its simplicity and modularity.\n",
        "\n",
        "- **`!pip install --upgrade --quiet keras-cv`**: This command installs or upgrades the `keras-cv` library, which extends Keras with additional tools and functionalities specifically designed for computer vision tasks, while suppressing verbose output.cv provides additional tools, layers, and functionalities to facilitate the development and deployment of computer vision models, such as image classification, object detection, and image segmentation.\n",
        "\n",
        "- **`!pip install --upgrade --quiet keras`**: This command installs or upgrades the core `keras` library to its latest version, providing the foundational tools and API for deep learning, with the `--quiet` option minimizing installation messages."
      ],
      "metadata": {
        "id": "X1NSexuuHq0f"
      }
    },
    {
      "cell_type": "markdown",
      "metadata": {
        "id": "vamhs5zGQOke"
      },
      "source": [
        "**4)Importing necessary modules**"
      ]
    },
    {
      "cell_type": "code",
      "execution_count": 4,
      "metadata": {
        "id": "WI8N9AqpXCD9"
      },
      "outputs": [],
      "source": [
        "import os\n",
        "\n",
        "os.environ[\"KERAS_BACKEND\"] = \"jax\"\n",
        "\n",
        "import keras\n",
        "import keras_cv\n",
        "import numpy as np\n",
        "import tensorflow_datasets as tfds\n",
        "import matplotlib"
      ]
    },
    {
      "cell_type": "markdown",
      "source": [
        "**Explanation**\n",
        "- **`import os`**: Imports the `os` module for interacting with the operating system and manipulating environment variables.\n",
        "\n",
        "- **`os.environ[\"KERAS_BACKEND\"] = \"jax\"`**: Sets the Keras backend to JAX, enabling optimized performance for computations and automatic differentiation.\n",
        "- In summary, this code configures Keras to leverage JAX for backend operations, aiming to improve computational efficiency and speed.\n",
        "- keras: Provides the main deep learning API for building and training models.\n",
        "- keras_cv: Extends Keras functionalities specifically for computer vision applications.\n",
        "- numpy: Facilitates array manipulation and numerical operations, often used in data preprocessing and manipulation.\n",
        "- tensorflow_datasets: Provides easy access to a variety of datasets, useful for training and testing machine learning models.\n",
        "- matplotlib: Enables data visualization, essential for analyzing and presenting data and model results."
      ],
      "metadata": {
        "id": "HciOm7XEJU_f"
      }
    },
    {
      "cell_type": "markdown",
      "metadata": {
        "id": "-s712bi0QUME"
      },
      "source": [
        "**5)Data Preprocessing**"
      ]
    },
    {
      "cell_type": "code",
      "execution_count": 5,
      "metadata": {
        "colab": {
          "base_uri": "https://localhost:8080/"
        },
        "id": "YtgTtCWkdbwG",
        "outputId": "bec9dfad-a932-4c30-9a7d-a6394003f9d5"
      },
      "outputs": [
        {
          "output_type": "stream",
          "name": "stdout",
          "text": [
            "Resized Image Data Shape: (19526, 128, 128, 3)\n",
            "Labels Shape: (19526,)\n"
          ]
        }
      ],
      "source": [
        "# Data Set taken total 18 classes with index labelling, which includes bad, good, mixed had 6 types fruits (total 18)\n",
        "\n",
        "import numpy as np\n",
        "import tensorflow as tf\n",
        "import tensorflow_hub as hub\n",
        "from sklearn.model_selection import train_test_split\n",
        "import os\n",
        "import cv2\n",
        "\n",
        "# Example path to your image directory\n",
        "image_dir = '/content/ata/Processed Images_Fruits'\n",
        "\n",
        "# List to store resized images and labels\n",
        "resized_images = []\n",
        "labels = []\n",
        "\n",
        "# Target size for resizing\n",
        "target_size = (128, 128) # Better to take (64,64) Because of Memory Constraints\n",
        "\n",
        "# Mapping for labels\n",
        "label_to_index = {}\n",
        "index = 0\n",
        "\n",
        "# Iterate through each quality category\n",
        "for quality in ['Bad Quality_Fruits', 'Good Quality_Fruits', 'Mixed Qualit_Fruits']:\n",
        "    fruit_list = os.listdir(os.path.join(image_dir, quality))\n",
        "    for fruit in fruit_list:\n",
        "        fruit_path = os.path.join(image_dir, quality, fruit)\n",
        "        img_list = os.listdir(fruit_path)\n",
        "        for img_name in img_list:\n",
        "            img_path = os.path.join(fruit_path, img_name)\n",
        "\n",
        "            # Load and resize image\n",
        "            img = cv2.imread(img_path)\n",
        "            img = cv2.cvtColor(img, cv2.COLOR_BGR2RGB)  # Convert BGR to RGB (OpenCV loads images in BGR format)\n",
        "            resized_img = cv2.resize(img, target_size)\n",
        "\n",
        "            # Append resized image and label\n",
        "            resized_images.append(resized_img)\n",
        "            if quality == 'Mixed Qualit_Fruits':\n",
        "                label = fruit.lower() + '_mixed'\n",
        "            else:\n",
        "                label = fruit.lower()\n",
        "\n",
        "            # Add label to mapping if not already present\n",
        "            if label not in label_to_index:\n",
        "                label_to_index[label] = index\n",
        "                index += 1\n",
        "\n",
        "            labels.append(label)\n",
        "\n",
        "# Convert lists to numpy arrays\n",
        "Image_data_resized = np.array(resized_images)\n",
        "labels = np.array(labels)\n",
        "\n",
        "# Convert string labels to integer labels\n",
        "y = np.array([label_to_index[label] for label in labels])\n",
        "\n",
        "# Check the shape of the resized array and labels\n",
        "print(\"Resized Image Data Shape:\", Image_data_resized.shape)\n",
        "print(\"Labels Shape:\", y.shape)\n",
        "\n",
        "# Split data into training and testing sets\n",
        "X_train, X_test, y_train, y_test = train_test_split(Image_data_resized, y, test_size=0.2, random_state=42)\n",
        "\n",
        "# Convert labels to categorical one-hot encoding\n",
        "num_classes = len(label_to_index)\n",
        "y_train_encoded = tf.keras.utils.to_categorical(y_train, num_classes=num_classes)\n",
        "y_test_encoded = tf.keras.utils.to_categorical(y_test, num_classes=num_classes)\n",
        "\n",
        "# Normalize pixel values to the range [0, 1]\n",
        "X_train = X_train.astype('float32') / 255.0\n",
        "X_test = X_test.astype('float32') / 255.0\n",
        "\n"
      ]
    },
    {
      "cell_type": "markdown",
      "source": [
        "**Explanation**\n",
        "____________________\n",
        "- **`numpy`**: For numerical operations and array manipulations.\n",
        "- **`tensorflow`**: For machine learning model building and evaluation.\n",
        "- **`tensorflow_hub`**: For using pre-trained models from TensorFlow Hub (not used in this snippet).\n",
        "- **`train_test_split`**: For splitting the data into training and testing sets.\n",
        "- **`os`**: For interacting with the file system.\n",
        "- **`cv2`**: OpenCV library for image processing.\n",
        "_________________________________________________________________\n",
        "- **`image_dir`**: Path to the directory containing the fruit images.\n",
        "- **`resized_images`**: List to store images after resizing.\n",
        "- **`labels`**: List to store corresponding labels for the images.\n",
        "- **`target_size`**: Dimensions to which images will be resized.\n",
        "- **`label_to_index`**: Dictionary mapping labels to integer indices.\n",
        "- **`index`**: Counter for assigning indices to labels.\n",
        "______________________________________________________________________\n",
        "- **Loop through quality categories**: Iterates over directories for different fruit quality types.\n",
        "\n",
        "- **List fruit directories**: Retrieves directories for specific fruit types within the current quality category.\n",
        "\n",
        "- **Loop through fruit directories**: Iterates over each fruit type directory to process images.\n",
        "\n",
        "- **Construct fruit path**: Defines the path to the current fruit directory.\n",
        "\n",
        "- **List image files**: Retrieves filenames of images in the current fruit directory.\n",
        "\n",
        "- **Loop through image files**: Iterates over each image file to process it.\n",
        "\n",
        "- **Construct image path**: Defines the full path to the current image file.\n",
        "\n",
        "- **Read image**: Loads the image into memory.\n",
        "\n",
        "- **Convert image color format**: Converts the image from BGR to RGB color format.\n",
        "\n",
        "- **Resize image**: Resizes the image to the specified dimensions.\n",
        "\n",
        "- **Append resized image**: Adds the resized image to the list of images.\n",
        "\n",
        "- **Assign label**: Sets the label for the image based on the quality category and fruit type.\n",
        "\n",
        "- **Update label mapping**: Adds the label to a dictionary with a unique index if it’s not already present.\n",
        "\n",
        "- **Append label**: Adds the label to the list of labels.\n",
        "________________________________________________________________\n",
        "- **Convert Lists to Arrays**: Converts the lists of images and labels to NumPy arrays.\n",
        "- **Map Labels to Indices**: Converts string labels to numerical indices using the label_to_index dictionary.\n",
        "________________________________________________________________\n",
        "- **Split Data**:\n",
        "  - **`X_train, X_test, y_train, y_test = train_test_split(Image_data_resized, y, test_size=0.2, random_state=42)`**\n",
        "  - Splits the dataset into training (80%) and testing (20%) sets.\n",
        "  - **`test_size=0.2`**: Specifies that 20% of the data should be used for testing.\n",
        "  - **`random_state=42`**: Ensures reproducibility of the split by setting a fixed seed.\n",
        "\n",
        "- **Number of Classes**:\n",
        "  - **`num_classes = len(label_to_index)`**\n",
        "  - Calculates the total number of unique classes based on the `label_to_index` dictionary.\n",
        "\n",
        "- **One-Hot Encode Training Labels**:\n",
        "  - **`y_train_encoded = tf.keras.utils.to_categorical(y_train, num_classes=num_classes)`**\n",
        "  - Converts training labels to one-hot encoded vectors for multi-class classification.\n",
        "  - **`num_classes=num_classes`**: Specifies the number of classes for one-hot encoding.\n",
        "\n",
        "- **One-Hot Encode Testing Labels**:\n",
        "  - **`y_test_encoded = tf.keras.utils.to_categorical(y_test, num_classes=num_classes)`**\n",
        "  - Converts testing labels to one-hot encoded vectors in the same way as training labels.\n",
        "  _____________________________________________________________\n",
        "- **Convert Data Type and Normalize Training Images**:\n",
        "  - **`X_train = X_train.astype('float32') / 255.0`**\n",
        "  - **`X_train.astype('float32')`**: Converts the pixel values of training images to 32-bit floating-point numbers for numerical precision.\n",
        "  - **`/ 255.0`**: Normalizes the pixel values to the range [0, 1] by dividing by 255 (the maximum pixel value). This scaling improves model performance and training stability by standardizing input data.\n",
        "\n",
        "- **Convert Data Type and Normalize Testing Images**:\n",
        "  - **`X_test = X_test.astype('float32') / 255.0`**\n",
        "  - Same process as for training images: converts pixel values to 32-bit floats and normalizes them to the [0, 1] range for consistency in evaluation and comparison.\n",
        "  _________________________________________________________\n",
        "\n",
        "  This code prepares image data for training a machine learning model by resizing images, mapping labels to indices, splitting the dataset, and normalizing the image data."
      ],
      "metadata": {
        "id": "-_cU1sHwNlxD"
      }
    },
    {
      "cell_type": "markdown",
      "metadata": {
        "id": "vc2yOWceQx85"
      },
      "source": [
        "**6)import keras and tensorflows**"
      ]
    },
    {
      "cell_type": "code",
      "execution_count": 6,
      "metadata": {
        "id": "ihCaIsz3Xz33"
      },
      "outputs": [],
      "source": [
        "import tensorflow as tf\n",
        "from tensorflow.keras.models import Sequential\n",
        "from tensorflow.keras.layers import Dense, Dropout\n",
        "import tensorflow_hub as hub\n",
        "from keras.layers import TFSMLayer\n",
        "from keras.models import Sequential\n",
        "from keras.layers import Dropout, Dense\n",
        "import os"
      ]
    },
    {
      "cell_type": "markdown",
      "source": [
        "**Explanation**\n",
        "\n",
        "\n",
        "- **`import tensorflow as tf`**:\n",
        "  - Imports TensorFlow, a library for machine learning and deep learning tasks.\n",
        "\n",
        "- **`from tensorflow.keras.models import Sequential`**:\n",
        "  - Imports the `Sequential` model class from TensorFlow's Keras API. This class allows for creating neural networks layer-by-layer in a straightforward, linear stack.\n",
        "\n",
        "- **`from tensorflow.keras.layers import Dense, Dropout`**:\n",
        "  - Imports `Dense` and `Dropout` layers from TensorFlow's Keras API.\n",
        "    - **`Dense`**: Fully connected layer that outputs a linear transformation of the input.\n",
        "    - **`Dropout`**: Regularization layer that randomly sets a fraction of input units to zero during training to prevent overfitting.\n",
        "\n",
        "- **`import tensorflow_hub as hub`**:\n",
        "  - Imports TensorFlow Hub, a library for reusable machine learning modules. It allows you to easily use pre-trained models or other components.\n",
        "\n",
        "- **`from keras.layers import TFSMLayer`**:\n",
        "  - Imports `TFSMLayer` from the Keras library. **Note**: `TFSMLayer` is not a standard Keras layer; it might be specific to a custom implementation or extension.\n",
        "\n",
        "- **`from keras.models import Sequential`**:\n",
        "  - Imports the `Sequential` model class from Keras (which is similar to TensorFlow’s `Sequential`). This class is used to build models in a linear stack.\n",
        "\n",
        "- **`from keras.layers import Dropout, Dense`**:\n",
        "  - Imports `Dropout` and `Dense` layers from Keras.\n",
        "    - **`Dense`**: Fully connected layer for output.\n",
        "    - **`Dropout`**: Regularization layer to reduce overfitting.\n",
        "\n",
        "- **`import os`**:\n",
        "  - Imports the OS module for interacting with the operating system, such as file and directory operations."
      ],
      "metadata": {
        "id": "UYtUF-69XNWm"
      }
    },
    {
      "cell_type": "markdown",
      "metadata": {
        "id": "bv7dNoFJQtBH"
      },
      "source": [
        "**7)Model.summmary()**"
      ]
    },
    {
      "cell_type": "code",
      "execution_count": 7,
      "metadata": {
        "colab": {
          "base_uri": "https://localhost:8080/",
          "height": 378
        },
        "id": "NBX9vs5L10fZ",
        "outputId": "246a4343-d7d1-42ce-be75-5b4b974642f3"
      },
      "outputs": [
        {
          "output_type": "stream",
          "name": "stdout",
          "text": [
            "Downloading from https://www.kaggle.com/api/v1/models/keras/efficientnetv2/keras/efficientnetv2_b0_imagenet/2/download/config.json...\n"
          ]
        },
        {
          "output_type": "stream",
          "name": "stderr",
          "text": [
            "100%|██████████| 1.79k/1.79k [00:00<00:00, 1.63MB/s]\n"
          ]
        },
        {
          "output_type": "stream",
          "name": "stdout",
          "text": [
            "Downloading from https://www.kaggle.com/api/v1/models/keras/efficientnetv2/keras/efficientnetv2_b0_imagenet/2/download/model.weights.h5...\n"
          ]
        },
        {
          "output_type": "stream",
          "name": "stderr",
          "text": [
            "100%|██████████| 23.1M/23.1M [00:01<00:00, 23.5MB/s]\n"
          ]
        },
        {
          "output_type": "display_data",
          "data": {
            "text/plain": [
              "\u001b[1mModel: \"image_classifier\"\u001b[0m\n"
            ],
            "text/html": [
              "<pre style=\"white-space:pre;overflow-x:auto;line-height:normal;font-family:Menlo,'DejaVu Sans Mono',consolas,'Courier New',monospace\"><span style=\"font-weight: bold\">Model: \"image_classifier\"</span>\n",
              "</pre>\n"
            ]
          },
          "metadata": {}
        },
        {
          "output_type": "display_data",
          "data": {
            "text/plain": [
              "┏━━━━━━━━━━━━━━━━━━━━━━━━━━━━━━━━━━━━━━┳━━━━━━━━━━━━━━━━━━━━━━━━━━━━━┳━━━━━━━━━━━━━━━━━┓\n",
              "┃\u001b[1m \u001b[0m\u001b[1mLayer (type)                        \u001b[0m\u001b[1m \u001b[0m┃\u001b[1m \u001b[0m\u001b[1mOutput Shape               \u001b[0m\u001b[1m \u001b[0m┃\u001b[1m \u001b[0m\u001b[1m        Param #\u001b[0m\u001b[1m \u001b[0m┃\n",
              "┡━━━━━━━━━━━━━━━━━━━━━━━━━━━━━━━━━━━━━━╇━━━━━━━━━━━━━━━━━━━━━━━━━━━━━╇━━━━━━━━━━━━━━━━━┩\n",
              "│ input_layer (\u001b[38;5;33mInputLayer\u001b[0m)             │ (\u001b[38;5;45mNone\u001b[0m, \u001b[38;5;45mNone\u001b[0m, \u001b[38;5;45mNone\u001b[0m, \u001b[38;5;34m3\u001b[0m)       │               \u001b[38;5;34m0\u001b[0m │\n",
              "├──────────────────────────────────────┼─────────────────────────────┼─────────────────┤\n",
              "│ efficient_net_v2b0_backbone          │ (\u001b[38;5;45mNone\u001b[0m, \u001b[38;5;45mNone\u001b[0m, \u001b[38;5;45mNone\u001b[0m, \u001b[38;5;34m1280\u001b[0m)    │       \u001b[38;5;34m5,919,312\u001b[0m │\n",
              "│ (\u001b[38;5;33mEfficientNetV2Backbone\u001b[0m)             │                             │                 │\n",
              "├──────────────────────────────────────┼─────────────────────────────┼─────────────────┤\n",
              "│ avg_pool (\u001b[38;5;33mGlobalAveragePooling2D\u001b[0m)    │ (\u001b[38;5;45mNone\u001b[0m, \u001b[38;5;34m1280\u001b[0m)                │               \u001b[38;5;34m0\u001b[0m │\n",
              "├──────────────────────────────────────┼─────────────────────────────┼─────────────────┤\n",
              "│ predictions (\u001b[38;5;33mDense\u001b[0m)                  │ (\u001b[38;5;45mNone\u001b[0m, \u001b[38;5;34m18\u001b[0m)                  │          \u001b[38;5;34m23,058\u001b[0m │\n",
              "└──────────────────────────────────────┴─────────────────────────────┴─────────────────┘\n"
            ],
            "text/html": [
              "<pre style=\"white-space:pre;overflow-x:auto;line-height:normal;font-family:Menlo,'DejaVu Sans Mono',consolas,'Courier New',monospace\">┏━━━━━━━━━━━━━━━━━━━━━━━━━━━━━━━━━━━━━━┳━━━━━━━━━━━━━━━━━━━━━━━━━━━━━┳━━━━━━━━━━━━━━━━━┓\n",
              "┃<span style=\"font-weight: bold\"> Layer (type)                         </span>┃<span style=\"font-weight: bold\"> Output Shape                </span>┃<span style=\"font-weight: bold\">         Param # </span>┃\n",
              "┡━━━━━━━━━━━━━━━━━━━━━━━━━━━━━━━━━━━━━━╇━━━━━━━━━━━━━━━━━━━━━━━━━━━━━╇━━━━━━━━━━━━━━━━━┩\n",
              "│ input_layer (<span style=\"color: #0087ff; text-decoration-color: #0087ff\">InputLayer</span>)             │ (<span style=\"color: #00d7ff; text-decoration-color: #00d7ff\">None</span>, <span style=\"color: #00d7ff; text-decoration-color: #00d7ff\">None</span>, <span style=\"color: #00d7ff; text-decoration-color: #00d7ff\">None</span>, <span style=\"color: #00af00; text-decoration-color: #00af00\">3</span>)       │               <span style=\"color: #00af00; text-decoration-color: #00af00\">0</span> │\n",
              "├──────────────────────────────────────┼─────────────────────────────┼─────────────────┤\n",
              "│ efficient_net_v2b0_backbone          │ (<span style=\"color: #00d7ff; text-decoration-color: #00d7ff\">None</span>, <span style=\"color: #00d7ff; text-decoration-color: #00d7ff\">None</span>, <span style=\"color: #00d7ff; text-decoration-color: #00d7ff\">None</span>, <span style=\"color: #00af00; text-decoration-color: #00af00\">1280</span>)    │       <span style=\"color: #00af00; text-decoration-color: #00af00\">5,919,312</span> │\n",
              "│ (<span style=\"color: #0087ff; text-decoration-color: #0087ff\">EfficientNetV2Backbone</span>)             │                             │                 │\n",
              "├──────────────────────────────────────┼─────────────────────────────┼─────────────────┤\n",
              "│ avg_pool (<span style=\"color: #0087ff; text-decoration-color: #0087ff\">GlobalAveragePooling2D</span>)    │ (<span style=\"color: #00d7ff; text-decoration-color: #00d7ff\">None</span>, <span style=\"color: #00af00; text-decoration-color: #00af00\">1280</span>)                │               <span style=\"color: #00af00; text-decoration-color: #00af00\">0</span> │\n",
              "├──────────────────────────────────────┼─────────────────────────────┼─────────────────┤\n",
              "│ predictions (<span style=\"color: #0087ff; text-decoration-color: #0087ff\">Dense</span>)                  │ (<span style=\"color: #00d7ff; text-decoration-color: #00d7ff\">None</span>, <span style=\"color: #00af00; text-decoration-color: #00af00\">18</span>)                  │          <span style=\"color: #00af00; text-decoration-color: #00af00\">23,058</span> │\n",
              "└──────────────────────────────────────┴─────────────────────────────┴─────────────────┘\n",
              "</pre>\n"
            ]
          },
          "metadata": {}
        },
        {
          "output_type": "display_data",
          "data": {
            "text/plain": [
              "\u001b[1m Total params: \u001b[0m\u001b[38;5;34m5,942,370\u001b[0m (22.67 MB)\n"
            ],
            "text/html": [
              "<pre style=\"white-space:pre;overflow-x:auto;line-height:normal;font-family:Menlo,'DejaVu Sans Mono',consolas,'Courier New',monospace\"><span style=\"font-weight: bold\"> Total params: </span><span style=\"color: #00af00; text-decoration-color: #00af00\">5,942,370</span> (22.67 MB)\n",
              "</pre>\n"
            ]
          },
          "metadata": {}
        },
        {
          "output_type": "display_data",
          "data": {
            "text/plain": [
              "\u001b[1m Trainable params: \u001b[0m\u001b[38;5;34m5,881,762\u001b[0m (22.44 MB)\n"
            ],
            "text/html": [
              "<pre style=\"white-space:pre;overflow-x:auto;line-height:normal;font-family:Menlo,'DejaVu Sans Mono',consolas,'Courier New',monospace\"><span style=\"font-weight: bold\"> Trainable params: </span><span style=\"color: #00af00; text-decoration-color: #00af00\">5,881,762</span> (22.44 MB)\n",
              "</pre>\n"
            ]
          },
          "metadata": {}
        },
        {
          "output_type": "display_data",
          "data": {
            "text/plain": [
              "\u001b[1m Non-trainable params: \u001b[0m\u001b[38;5;34m60,608\u001b[0m (236.75 KB)\n"
            ],
            "text/html": [
              "<pre style=\"white-space:pre;overflow-x:auto;line-height:normal;font-family:Menlo,'DejaVu Sans Mono',consolas,'Courier New',monospace\"><span style=\"font-weight: bold\"> Non-trainable params: </span><span style=\"color: #00af00; text-decoration-color: #00af00\">60,608</span> (236.75 KB)\n",
              "</pre>\n"
            ]
          },
          "metadata": {}
        }
      ],
      "source": [
        "model = keras_cv.models.ImageClassifier.from_preset(\n",
        "    \"efficientnetv2_b0_imagenet\",\n",
        "    num_classes=num_classes,\n",
        ")\n",
        "model.summary()"
      ]
    },
    {
      "cell_type": "markdown",
      "source": [
        "**EXplanation**\n",
        "\n",
        "\n",
        "- **`model = keras_cv.models.ImageClassifier.from_preset(\"efficientnetv2_b0_imagenet\", num_classes=num_classes)`**:\n",
        "  - **`keras_cv.models.ImageClassifier.from_preset`**: Creates an image classification model using a pre-trained model preset from Keras CV (Keras Computer Vision).\n",
        "  - **`\"efficientnetv2_b0_imagenet\"`**: Specifies the pre-trained EfficientNetV2-B0 model, which has been trained on the ImageNet dataset.\n",
        "  - **`num_classes=num_classes`**: Sets the number of output classes for the model based on your dataset. This adjusts the final layer to match your specific classification task.\n",
        "\n",
        "- **`model.summary()`**:\n",
        "  - Displays a summary of the model architecture, including the layers, output shapes, and number of parameters. This helps in understanding the structure of the model and verifying its configuration."
      ],
      "metadata": {
        "id": "jNiq_UAZXsEq"
      }
    },
    {
      "cell_type": "markdown",
      "metadata": {
        "id": "y8s_N5lZRAX_"
      },
      "source": [
        "**8)train the model and save it**"
      ]
    },
    {
      "cell_type": "code",
      "execution_count": null,
      "metadata": {
        "colab": {
          "base_uri": "https://localhost:8080/"
        },
        "id": "Te9FmBSDzAGK",
        "outputId": "3141dd14-fd1b-4d07-a2eb-42252119d626"
      },
      "outputs": [
        {
          "name": "stdout",
          "output_type": "stream",
          "text": [
            "Epoch 1/10\n",
            "\u001b[1m489/489\u001b[0m \u001b[32m━━━━━━━━━━━━━━━━━━━━\u001b[0m\u001b[37m\u001b[0m \u001b[1m67s\u001b[0m 101ms/step - accuracy: 0.9935 - loss: 0.0243 - val_accuracy: 0.9923 - val_loss: 0.0283\n",
            "Epoch 2/10\n",
            "\u001b[1m489/489\u001b[0m \u001b[32m━━━━━━━━━━━━━━━━━━━━\u001b[0m\u001b[37m\u001b[0m \u001b[1m24s\u001b[0m 22ms/step - accuracy: 0.9947 - loss: 0.0209 - val_accuracy: 0.9918 - val_loss: 0.0288\n",
            "Epoch 3/10\n",
            "\u001b[1m489/489\u001b[0m \u001b[32m━━━━━━━━━━━━━━━━━━━━\u001b[0m\u001b[37m\u001b[0m \u001b[1m11s\u001b[0m 22ms/step - accuracy: 0.9935 - loss: 0.0301 - val_accuracy: 0.9898 - val_loss: 0.0495\n",
            "Epoch 4/10\n",
            "\u001b[1m489/489\u001b[0m \u001b[32m━━━━━━━━━━━━━━━━━━━━\u001b[0m\u001b[37m\u001b[0m \u001b[1m11s\u001b[0m 22ms/step - accuracy: 0.9964 - loss: 0.0123 - val_accuracy: 0.9939 - val_loss: 0.0243\n",
            "Epoch 5/10\n",
            "\u001b[1m489/489\u001b[0m \u001b[32m━━━━━━━━━━━━━━━━━━━━\u001b[0m\u001b[37m\u001b[0m \u001b[1m11s\u001b[0m 23ms/step - accuracy: 0.9919 - loss: 0.0281 - val_accuracy: 0.9964 - val_loss: 0.0237\n",
            "Epoch 6/10\n",
            "\u001b[1m489/489\u001b[0m \u001b[32m━━━━━━━━━━━━━━━━━━━━\u001b[0m\u001b[37m\u001b[0m \u001b[1m11s\u001b[0m 22ms/step - accuracy: 0.9999 - loss: 0.0014 - val_accuracy: 0.9969 - val_loss: 0.0180\n",
            "Epoch 7/10\n",
            "\u001b[1m489/489\u001b[0m \u001b[32m━━━━━━━━━━━━━━━━━━━━\u001b[0m\u001b[37m\u001b[0m \u001b[1m11s\u001b[0m 22ms/step - accuracy: 0.9982 - loss: 0.0067 - val_accuracy: 0.9905 - val_loss: 0.0456\n",
            "Epoch 8/10\n",
            "\u001b[1m489/489\u001b[0m \u001b[32m━━━━━━━━━━━━━━━━━━━━\u001b[0m\u001b[37m\u001b[0m \u001b[1m11s\u001b[0m 23ms/step - accuracy: 0.9897 - loss: 0.0398 - val_accuracy: 0.9967 - val_loss: 0.0183\n",
            "Epoch 9/10\n",
            "\u001b[1m489/489\u001b[0m \u001b[32m━━━━━━━━━━━━━━━━━━━━\u001b[0m\u001b[37m\u001b[0m \u001b[1m11s\u001b[0m 22ms/step - accuracy: 0.9877 - loss: 0.0464 - val_accuracy: 0.9969 - val_loss: 0.0151\n",
            "Epoch 10/10\n",
            "\u001b[1m489/489\u001b[0m \u001b[32m━━━━━━━━━━━━━━━━━━━━\u001b[0m\u001b[37m\u001b[0m \u001b[1m11s\u001b[0m 22ms/step - accuracy: 0.9986 - loss: 0.0038 - val_accuracy: 0.9936 - val_loss: 0.0292\n",
            "\u001b[1m123/123\u001b[0m \u001b[32m━━━━━━━━━━━━━━━━━━━━\u001b[0m\u001b[37m\u001b[0m \u001b[1m1s\u001b[0m 6ms/step - accuracy: 0.9938 - loss: 0.0250\n"
          ]
        },
        {
          "name": "stderr",
          "output_type": "stream",
          "text": [
            "WARNING:absl:You are saving your model as an HDF5 file via `model.save()` or `keras.saving.save_model(model)`. This file format is considered legacy. We recommend using instead the native Keras format, e.g. `model.save('my_model.keras')` or `keras.saving.save_model(model, 'my_model.keras')`. \n"
          ]
        },
        {
          "name": "stdout",
          "output_type": "stream",
          "text": [
            "Test Accuracy: 99.36%\n"
          ]
        }
      ],
      "source": [
        "# Compile the model\n",
        "model.compile(optimizer='adam',\n",
        "              loss='categorical_crossentropy',\n",
        "              metrics=['accuracy'])\n",
        "\n",
        "# Print model s\n",
        "\n",
        "# Train the model\n",
        "history = model.fit(X_train, y_train_encoded, epochs=10, batch_size=32, validation_data=(X_test, y_test_encoded))\n",
        "\n",
        "# Evaluate the model\n",
        "loss, accuracy = model.evaluate(X_test, y_test_encoded)\n",
        "print(f'Test Accuracy: {accuracy * 100:.2f}%')\n",
        "\n",
        "# Save the entire model to a HDF5 file\n",
        "model.save(\"my_model.h5\")\n",
        "\n"
      ]
    },
    {
      "cell_type": "markdown",
      "source": [
        "**Explanation**\n",
        "- **Compile the Model**:\n",
        "  - Uses the Adam optimizer.\n",
        "  - Sets categorical cross-entropy as the loss function.\n",
        "  - Monitors accuracy as a metric.\n",
        "\n",
        "- **Train the Model**:\n",
        "  - Trains the model with training data for 10 epochs.\n",
        "  - Uses a batch size of 32.\n",
        "  - Provides validation data to monitor performance during training.\n",
        "\n",
        "- **Evaluate the Model**:\n",
        "  - Assesses the model's performance on test data.\n",
        "  - Prints the test accuracy as a percentage.\n",
        "\n",
        "- **Save the Model**:\n",
        "  - Saves the model to an HDF5 file for future use.\n",
        "  ___________________________________Transfer learning was utilized in your code through the following process:\n",
        "\n",
        "- **Pre-trained Model**: You used the EfficientNetV2-B0 model, which was pre-trained on the ImageNet dataset. This model has learned to extract useful features from images during its training on a large, diverse dataset.\n",
        "\n",
        "- **Adaptation for New Task**:\n",
        "  - **`model = keras_cv.models.ImageClassifier.from_preset(\"efficientnetv2_b0_imagenet\", num_classes=num_classes)`**: You adapted this pre-trained model for your specific fruit classification task by setting `num_classes` to match the number of classes in your dataset. This involves modifying the final layer of the model to output predictions for your custom set of classes.\n",
        "\n",
        "- **Training on Specific Data**: The model was then fine-tuned on your dataset (`X_train` and `y_train_encoded`). This fine-tuning process allows the model to adjust the pre-learned features to better suit your specific classification task.\n",
        "\n",
        "In summary, transfer learning was used by leveraging the features learned from the large-scale ImageNet dataset and adapting those features to your specific fruit classification problem."
      ],
      "metadata": {
        "id": "zQGdEpKFYyBT"
      }
    },
    {
      "cell_type": "markdown",
      "metadata": {
        "id": "Qp-ZkAAPSLWn"
      },
      "source": [
        "**9)draw architecture of efficientnetv2 model**"
      ]
    },
    {
      "cell_type": "code",
      "execution_count": null,
      "metadata": {
        "colab": {
          "base_uri": "https://localhost:8080/",
          "height": 1000
        },
        "id": "85C23o9qR6Ht",
        "outputId": "d5131138-473e-46f3-e27b-d04d0ef7b6b8"
      },
      "outputs": [
        {
          "data": {
            "image/png": "[encoded data removed]",
            "text/plain": [
              "<IPython.core.display.Image object>"
            ]
          },
          "execution_count": 19,
          "metadata": {},
          "output_type": "execute_result"
        }
      ],
      "source": [
        "# prompt: draw architecture of efficientnetv2 model\n",
        "\n",
        "tf.keras.utils.plot_model(model, to_file='model.png', show_shapes=True, show_layer_names=True)\n"
      ]
    },
    {
      "cell_type": "markdown",
      "metadata": {
        "id": "HwyfmPOXSR5S"
      },
      "source": [
        "**10)draw precision and recall for above model**"
      ]
    },
    {
      "cell_type": "code",
      "execution_count": null,
      "metadata": {
        "colab": {
          "base_uri": "https://localhost:8080/",
          "height": 504
        },
        "id": "BwrQG_1BRMtp",
        "outputId": "15f932f2-acfd-4c7c-ce6a-f2fdee152013"
      },
      "outputs": [
        {
          "name": "stdout",
          "output_type": "stream",
          "text": [
            "\u001b[1m123/123\u001b[0m \u001b[32m━━━━━━━━━━━━━━━━━━━━\u001b[0m\u001b[37m\u001b[0m \u001b[1m11s\u001b[0m 48ms/step\n",
            "Precision: 0.97\n",
            "Recall: 0.98\n"
          ]
        },
        {
          "data": {
            "image/png": "[encoded data removed]",
            "text/plain": [
              "<Figure size 640x480 with 1 Axes>"
            ]
          },
          "metadata": {},
          "output_type": "display_data"
        }
      ],
      "source": [
        "# prompt: draw precision and recall for above model\n",
        "\n",
        "import numpy as np\n",
        "from sklearn.metrics import precision_score, recall_score\n",
        "\n",
        "# Predict classes for test data\n",
        "y_pred = model.predict(X_test)\n",
        "y_pred_classes = np.argmax(y_pred, axis=1)\n",
        "\n",
        "# Calculate precision and recall\n",
        "precision = precision_score(y_test, y_pred_classes, average='macro')\n",
        "recall = recall_score(y_test, y_pred_classes, average='macro')\n",
        "\n",
        "print(f'Precision: {precision:.2f}')\n",
        "print(f'Recall: {recall:.2f}')\n",
        "\n",
        "# Plotting precision and recall\n",
        "import matplotlib.pyplot as plt\n",
        "\n",
        "plt.bar(['Precision', 'Recall'], [precision, recall])\n",
        "plt.ylabel('Score')\n",
        "plt.title('Precision and Recall')\n",
        "plt.show()\n"
      ]
    },
    {
      "cell_type": "markdown",
      "metadata": {
        "id": "ln6Tg0O4SYaf"
      },
      "source": [
        "**11)train the above using vgg16**"
      ]
    },
    {
      "cell_type": "code",
      "execution_count": null,
      "metadata": {
        "colab": {
          "base_uri": "https://localhost:8080/"
        },
        "id": "_5Svm_09HoNS",
        "outputId": "91867108-f611-4fc4-89c2-651de205f99c"
      },
      "outputs": [
        {
          "name": "stdout",
          "output_type": "stream",
          "text": [
            "Downloading data from https://storage.googleapis.com/tensorflow/keras-applications/vgg16/vgg16_weights_tf_dim_ordering_tf_kernels_notop.h5\n",
            "\u001b[1m58889256/58889256\u001b[0m \u001b[32m━━━━━━━━━━━━━━━━━━━━\u001b[0m\u001b[37m\u001b[0m \u001b[1m0s\u001b[0m 0us/step\n",
            "Epoch 1/10\n",
            "\u001b[1m489/489\u001b[0m \u001b[32m━━━━━━━━━━━━━━━━━━━━\u001b[0m\u001b[37m\u001b[0m \u001b[1m30s\u001b[0m 49ms/step - accuracy: 0.5083 - loss: 1.6643 - val_accuracy: 0.8254 - val_loss: 0.6138\n",
            "Epoch 2/10\n",
            "\u001b[1m489/489\u001b[0m \u001b[32m━━━━━━━━━━━━━━━━━━━━\u001b[0m\u001b[37m\u001b[0m \u001b[1m15s\u001b[0m 29ms/step - accuracy: 0.7930 - loss: 0.6738 - val_accuracy: 0.8850 - val_loss: 0.4154\n",
            "Epoch 3/10\n",
            "\u001b[1m489/489\u001b[0m \u001b[32m━━━━━━━━━━━━━━━━━━━━\u001b[0m\u001b[37m\u001b[0m \u001b[1m14s\u001b[0m 29ms/step - accuracy: 0.8483 - loss: 0.4917 - val_accuracy: 0.9081 - val_loss: 0.3363\n",
            "Epoch 4/10\n",
            "\u001b[1m489/489\u001b[0m \u001b[32m━━━━━━━━━━━━━━━━━━━━\u001b[0m\u001b[37m\u001b[0m \u001b[1m14s\u001b[0m 29ms/step - accuracy: 0.8784 - loss: 0.3970 - val_accuracy: 0.9094 - val_loss: 0.2969\n",
            "Epoch 5/10\n",
            "\u001b[1m489/489\u001b[0m \u001b[32m━━━━━━━━━━━━━━━━━━━━\u001b[0m\u001b[37m\u001b[0m \u001b[1m14s\u001b[0m 29ms/step - accuracy: 0.8931 - loss: 0.3329 - val_accuracy: 0.9304 - val_loss: 0.2389\n",
            "Epoch 6/10\n",
            "\u001b[1m489/489\u001b[0m \u001b[32m━━━━━━━━━━━━━━━━━━━━\u001b[0m\u001b[37m\u001b[0m \u001b[1m14s\u001b[0m 29ms/step - accuracy: 0.9104 - loss: 0.2862 - val_accuracy: 0.9339 - val_loss: 0.2293\n",
            "Epoch 7/10\n",
            "\u001b[1m489/489\u001b[0m \u001b[32m━━━━━━━━━━━━━━━━━━━━\u001b[0m\u001b[37m\u001b[0m \u001b[1m14s\u001b[0m 29ms/step - accuracy: 0.9193 - loss: 0.2614 - val_accuracy: 0.9409 - val_loss: 0.2038\n",
            "Epoch 8/10\n",
            "\u001b[1m489/489\u001b[0m \u001b[32m━━━━━━━━━━━━━━━━━━━━\u001b[0m\u001b[37m\u001b[0m \u001b[1m14s\u001b[0m 29ms/step - accuracy: 0.9253 - loss: 0.2365 - val_accuracy: 0.9524 - val_loss: 0.1759\n",
            "Epoch 9/10\n",
            "\u001b[1m489/489\u001b[0m \u001b[32m━━━━━━━━━━━━━━━━━━━━\u001b[0m\u001b[37m\u001b[0m \u001b[1m14s\u001b[0m 29ms/step - accuracy: 0.9354 - loss: 0.2051 - val_accuracy: 0.9465 - val_loss: 0.1676\n",
            "Epoch 10/10\n",
            "\u001b[1m489/489\u001b[0m \u001b[32m━━━━━━━━━━━━━━━━━━━━\u001b[0m\u001b[37m\u001b[0m \u001b[1m14s\u001b[0m 29ms/step - accuracy: 0.9456 - loss: 0.1758 - val_accuracy: 0.9496 - val_loss: 0.1638\n",
            "\u001b[1m123/123\u001b[0m \u001b[32m━━━━━━━━━━━━━━━━━━━━\u001b[0m\u001b[37m\u001b[0m \u001b[1m3s\u001b[0m 23ms/step - accuracy: 0.9549 - loss: 0.1508\n"
          ]
        },
        {
          "name": "stderr",
          "output_type": "stream",
          "text": [
            "WARNING:absl:You are saving your model as an HDF5 file via `model.save()` or `keras.saving.save_model(model)`. This file format is considered legacy. We recommend using instead the native Keras format, e.g. `model.save('my_model.keras')` or `keras.saving.save_model(model, 'my_model.keras')`. \n"
          ]
        },
        {
          "name": "stdout",
          "output_type": "stream",
          "text": [
            "Test Accuracy: 94.96%\n"
          ]
        }
      ],
      "source": [
        "# prompt: train the above using vgg16\n",
        "\n",
        "from tensorflow.keras.applications import VGG16\n",
        "\n",
        "# Load the VGG16 model without the top (fully connected) layers\n",
        "base_model = VGG16(weights='imagenet', include_top=False, input_shape=(128, 128, 3))\n",
        "\n",
        "# Freeze the base model layers\n",
        "for layer in base_model.layers:\n",
        "    layer.trainable = False\n",
        "\n",
        "# Create a new model on top of the base model\n",
        "model = Sequential()\n",
        "model.add(base_model)\n",
        "model.add(tf.keras.layers.GlobalAveragePooling2D())\n",
        "model.add(Dense(256, activation='relu'))\n",
        "model.add(Dropout(0.5))\n",
        "model.add(Dense(num_classes, activation='softmax'))  # num_classes is from previous code\n",
        "\n",
        "# Compile the model\n",
        "model.compile(optimizer='adam',\n",
        "              loss='categorical_crossentropy',\n",
        "              metrics=['accuracy'])\n",
        "\n",
        "# Train the model\n",
        "history = model.fit(X_train, y_train_encoded, epochs=10, batch_size=32, validation_data=(X_test, y_test_encoded))\n",
        "\n",
        "# Evaluate the model\n",
        "loss, accuracy = model.evaluate(X_test, y_test_encoded)\n",
        "print(f'Test Accuracy: {accuracy * 100:.2f}%')\n",
        "\n",
        "# Save the entire model to a HDF5 file\n",
        "model.save(\"my_vgg16_model.h5\")\n"
      ]
    },
    {
      "cell_type": "markdown",
      "metadata": {
        "id": "UXO85rHvTAnx"
      },
      "source": [
        "**12)train inception v3 model**"
      ]
    },
    {
      "cell_type": "code",
      "execution_count": null,
      "metadata": {
        "colab": {
          "base_uri": "https://localhost:8080/"
        },
        "id": "oyFKwDTUJ7It",
        "outputId": "f8e7bdff-aa37-48ff-d1fb-1c0a6425150b"
      },
      "outputs": [
        {
          "name": "stdout",
          "output_type": "stream",
          "text": [
            "Downloading data from https://storage.googleapis.com/tensorflow/keras-applications/inception_v3/inception_v3_weights_tf_dim_ordering_tf_kernels_notop.h5\n",
            "\u001b[1m87910968/87910968\u001b[0m \u001b[32m━━━━━━━━━━━━━━━━━━━━\u001b[0m\u001b[37m\u001b[0m \u001b[1m0s\u001b[0m 0us/step\n",
            "Epoch 1/10\n",
            "\u001b[1m489/489\u001b[0m \u001b[32m━━━━━━━━━━━━━━━━━━━━\u001b[0m\u001b[37m\u001b[0m \u001b[1m33s\u001b[0m 50ms/step - accuracy: 0.6066 - loss: 1.5974 - val_accuracy: 0.8579 - val_loss: 0.4659\n",
            "Epoch 2/10\n",
            "\u001b[1m489/489\u001b[0m \u001b[32m━━━━━━━━━━━━━━━━━━━━\u001b[0m\u001b[37m\u001b[0m \u001b[1m7s\u001b[0m 10ms/step - accuracy: 0.8057 - loss: 0.6267 - val_accuracy: 0.8948 - val_loss: 0.3303\n",
            "Epoch 3/10\n",
            "\u001b[1m489/489\u001b[0m \u001b[32m━━━━━━━━━━━━━━━━━━━━\u001b[0m\u001b[37m\u001b[0m \u001b[1m5s\u001b[0m 10ms/step - accuracy: 0.8360 - loss: 0.5172 - val_accuracy: 0.9068 - val_loss: 0.3006\n",
            "Epoch 4/10\n",
            "\u001b[1m489/489\u001b[0m \u001b[32m━━━━━━━━━━━━━━━━━━━━\u001b[0m\u001b[37m\u001b[0m \u001b[1m5s\u001b[0m 10ms/step - accuracy: 0.8518 - loss: 0.4524 - val_accuracy: 0.9163 - val_loss: 0.2645\n",
            "Epoch 5/10\n",
            "\u001b[1m489/489\u001b[0m \u001b[32m━━━━━━━━━━━━━━━━━━━━\u001b[0m\u001b[37m\u001b[0m \u001b[1m5s\u001b[0m 10ms/step - accuracy: 0.8662 - loss: 0.4039 - val_accuracy: 0.9178 - val_loss: 0.2528\n",
            "Epoch 6/10\n",
            "\u001b[1m489/489\u001b[0m \u001b[32m━━━━━━━━━━━━━━━━━━━━\u001b[0m\u001b[37m\u001b[0m \u001b[1m6s\u001b[0m 12ms/step - accuracy: 0.8711 - loss: 0.3859 - val_accuracy: 0.9309 - val_loss: 0.2267\n",
            "Epoch 7/10\n",
            "\u001b[1m489/489\u001b[0m \u001b[32m━━━━━━━━━━━━━━━━━━━━\u001b[0m\u001b[37m\u001b[0m \u001b[1m5s\u001b[0m 11ms/step - accuracy: 0.8813 - loss: 0.3472 - val_accuracy: 0.9283 - val_loss: 0.2193\n",
            "Epoch 8/10\n",
            "\u001b[1m489/489\u001b[0m \u001b[32m━━━━━━━━━━━━━━━━━━━━\u001b[0m\u001b[37m\u001b[0m \u001b[1m5s\u001b[0m 11ms/step - accuracy: 0.9004 - loss: 0.2904 - val_accuracy: 0.9363 - val_loss: 0.2132\n",
            "Epoch 9/10\n",
            "\u001b[1m489/489\u001b[0m \u001b[32m━━━━━━━━━━━━━━━━━━━━\u001b[0m\u001b[37m\u001b[0m \u001b[1m5s\u001b[0m 10ms/step - accuracy: 0.8960 - loss: 0.2985 - val_accuracy: 0.9378 - val_loss: 0.1998\n",
            "Epoch 10/10\n",
            "\u001b[1m489/489\u001b[0m \u001b[32m━━━━━━━━━━━━━━━━━━━━\u001b[0m\u001b[37m\u001b[0m \u001b[1m5s\u001b[0m 11ms/step - accuracy: 0.8993 - loss: 0.2953 - val_accuracy: 0.9421 - val_loss: 0.1946\n",
            "\u001b[1m123/123\u001b[0m \u001b[32m━━━━━━━━━━━━━━━━━━━━\u001b[0m\u001b[37m\u001b[0m \u001b[1m1s\u001b[0m 7ms/step - accuracy: 0.9354 - loss: 0.2090\n"
          ]
        },
        {
          "name": "stderr",
          "output_type": "stream",
          "text": [
            "WARNING:absl:You are saving your model as an HDF5 file via `model.save()` or `keras.saving.save_model(model)`. This file format is considered legacy. We recommend using instead the native Keras format, e.g. `model.save('my_model.keras')` or `keras.saving.save_model(model, 'my_model.keras')`. \n"
          ]
        },
        {
          "name": "stdout",
          "output_type": "stream",
          "text": [
            "Test Accuracy: 94.21%\n"
          ]
        }
      ],
      "source": [
        "# prompt: train inception v3 model\n",
        "\n",
        "from tensorflow.keras.applications import InceptionV3\n",
        "\n",
        "# Load the InceptionV3 model without the top (fully connected) layers\n",
        "base_model = InceptionV3(weights='imagenet', include_top=False, input_shape=(128, 128, 3))\n",
        "\n",
        "# Freeze the base model layers\n",
        "for layer in base_model.layers:\n",
        "    layer.trainable = False\n",
        "\n",
        "# Create a new model on top of the base model\n",
        "model = Sequential()\n",
        "model.add(base_model)\n",
        "model.add(tf.keras.layers.GlobalAveragePooling2D())\n",
        "model.add(Dense(256, activation='relu'))\n",
        "model.add(Dropout(0.5))\n",
        "model.add(Dense(num_classes, activation='softmax'))  # num_classes is from previous code\n",
        "\n",
        "# Compile the model\n",
        "model.compile(optimizer='adam',\n",
        "              loss='categorical_crossentropy',\n",
        "              metrics=['accuracy'])\n",
        "\n",
        "# Train the model\n",
        "history = model.fit(X_train, y_train_encoded, epochs=10, batch_size=32, validation_data=(X_test, y_test_encoded))\n",
        "\n",
        "# Evaluate the model\n",
        "loss, accuracy = model.evaluate(X_test, y_test_encoded)\n",
        "print(f'Test Accuracy: {accuracy * 100:.2f}%')\n",
        "\n",
        "# Save the entire model to a HDF5 file\n",
        "model.save(\"my_model.keras.h5\")\n"
      ]
    },
    {
      "cell_type": "markdown",
      "metadata": {
        "id": "I8Fw4SVaTMA0"
      },
      "source": [
        "**13)train the model using rnn**"
      ]
    },
    {
      "cell_type": "code",
      "execution_count": null,
      "metadata": {
        "colab": {
          "base_uri": "https://localhost:8080/"
        },
        "id": "msw603ATLpw1",
        "outputId": "a1c316c4-2ff7-4cf3-abaa-e9bc8bdcd83a"
      },
      "outputs": [
        {
          "name": "stderr",
          "output_type": "stream",
          "text": [
            "/usr/local/lib/python3.10/dist-packages/keras/src/layers/core/wrapper.py:27: UserWarning: Do not pass an `input_shape`/`input_dim` argument to a layer. When using Sequential models, prefer using an `Input(shape)` object as the first layer in the model instead.\n",
            "  super().__init__(**kwargs)\n"
          ]
        },
        {
          "name": "stdout",
          "output_type": "stream",
          "text": [
            "Epoch 1/10\n",
            "\u001b[1m489/489\u001b[0m \u001b[32m━━━━━━━━━━━━━━━━━━━━\u001b[0m\u001b[37m\u001b[0m \u001b[1m14s\u001b[0m 25ms/step - accuracy: 0.3436 - loss: 9.1492 - val_accuracy: 0.8018 - val_loss: 0.6525\n",
            "Epoch 2/10\n",
            "\u001b[1m489/489\u001b[0m \u001b[32m━━━━━━━━━━━━━━━━━━━━\u001b[0m\u001b[37m\u001b[0m \u001b[1m8s\u001b[0m 14ms/step - accuracy: 0.8696 - loss: 0.4449 - val_accuracy: 0.8996 - val_loss: 0.3317\n",
            "Epoch 3/10\n",
            "\u001b[1m489/489\u001b[0m \u001b[32m━━━━━━━━━━━━━━━━━━━━\u001b[0m\u001b[37m\u001b[0m \u001b[1m7s\u001b[0m 14ms/step - accuracy: 0.9660 - loss: 0.1244 - val_accuracy: 0.9240 - val_loss: 0.2722\n",
            "Epoch 4/10\n",
            "\u001b[1m489/489\u001b[0m \u001b[32m━━━━━━━━━━━━━━━━━━━━\u001b[0m\u001b[37m\u001b[0m \u001b[1m7s\u001b[0m 14ms/step - accuracy: 0.9862 - loss: 0.0554 - val_accuracy: 0.9209 - val_loss: 0.3152\n",
            "Epoch 5/10\n",
            "\u001b[1m489/489\u001b[0m \u001b[32m━━━━━━━━━━━━━━━━━━━━\u001b[0m\u001b[37m\u001b[0m \u001b[1m7s\u001b[0m 14ms/step - accuracy: 0.9946 - loss: 0.0221 - val_accuracy: 0.8904 - val_loss: 0.4089\n",
            "Epoch 6/10\n",
            "\u001b[1m489/489\u001b[0m \u001b[32m━━━━━━━━━━━━━━━━━━━━\u001b[0m\u001b[37m\u001b[0m \u001b[1m7s\u001b[0m 14ms/step - accuracy: 0.9918 - loss: 0.0286 - val_accuracy: 0.9168 - val_loss: 0.3587\n",
            "Epoch 7/10\n",
            "\u001b[1m489/489\u001b[0m \u001b[32m━━━━━━━━━━━━━━━━━━━━\u001b[0m\u001b[37m\u001b[0m \u001b[1m7s\u001b[0m 14ms/step - accuracy: 0.9925 - loss: 0.0265 - val_accuracy: 0.9214 - val_loss: 0.3889\n",
            "Epoch 8/10\n",
            "\u001b[1m489/489\u001b[0m \u001b[32m━━━━━━━━━━━━━━━━━━━━\u001b[0m\u001b[37m\u001b[0m \u001b[1m7s\u001b[0m 14ms/step - accuracy: 0.9961 - loss: 0.0146 - val_accuracy: 0.9245 - val_loss: 0.4021\n",
            "Epoch 9/10\n",
            "\u001b[1m489/489\u001b[0m \u001b[32m━━━━━━━━━━━━━━━━━━━━\u001b[0m\u001b[37m\u001b[0m \u001b[1m7s\u001b[0m 14ms/step - accuracy: 0.9961 - loss: 0.0150 - val_accuracy: 0.8981 - val_loss: 0.4590\n",
            "Epoch 10/10\n",
            "\u001b[1m489/489\u001b[0m \u001b[32m━━━━━━━━━━━━━━━━━━━━\u001b[0m\u001b[37m\u001b[0m \u001b[1m7s\u001b[0m 14ms/step - accuracy: 0.9832 - loss: 0.0580 - val_accuracy: 0.9042 - val_loss: 0.5273\n",
            "\u001b[1m123/123\u001b[0m \u001b[32m━━━━━━━━━━━━━━━━━━━━\u001b[0m\u001b[37m\u001b[0m \u001b[1m0s\u001b[0m 2ms/step - accuracy: 0.8971 - loss: 0.4937\n",
            "Test Accuracy: 90.42%\n"
          ]
        }
      ],
      "source": [
        "# prompt: train the model using rnn\n",
        "\n",
        "# Reshape the input data for RNN (samples, time steps, features)\n",
        "X_train_reshaped = X_train.reshape(X_train.shape[0], 1, X_train.shape[1], X_train.shape[2], X_train.shape[3])\n",
        "X_test_reshaped = X_test.reshape(X_test.shape[0], 1, X_test.shape[1], X_test.shape[2], X_test.shape[3])\n",
        "\n",
        "# Define the RNN model\n",
        "model = Sequential()\n",
        "model.add(tf.keras.layers.TimeDistributed(tf.keras.layers.Conv2D(32, (3, 3), activation='relu'), input_shape=(1, 128, 128, 3)))\n",
        "model.add(tf.keras.layers.TimeDistributed(tf.keras.layers.MaxPooling2D((2, 2))))\n",
        "model.add(tf.keras.layers.TimeDistributed(tf.keras.layers.Flatten()))\n",
        "model.add(tf.keras.layers.LSTM(64, activation='relu'))\n",
        "model.add(Dense(num_classes, activation='softmax'))\n",
        "\n",
        "# Compile the model\n",
        "model.compile(optimizer='adam', loss='categorical_crossentropy', metrics=['accuracy'])\n",
        "\n",
        "# Train the model\n",
        "history = model.fit(X_train_reshaped, y_train_encoded, epochs=10, batch_size=32, validation_data=(X_test_reshaped, y_test_encoded))\n",
        "\n",
        "# Evaluate the model\n",
        "loss, accuracy = model.evaluate(X_test_reshaped, y_test_encoded)\n",
        "print(f'Test Accuracy: {accuracy * 100:.2f}%')\n"
      ]
    },
    {
      "cell_type": "markdown",
      "metadata": {
        "id": "Z6ktaRbwTT9E"
      },
      "source": [
        "**14)train the above model using densenet**"
      ]
    },
    {
      "cell_type": "code",
      "execution_count": null,
      "metadata": {
        "colab": {
          "base_uri": "https://localhost:8080/"
        },
        "id": "awO5gr7MOpMq",
        "outputId": "fccb8c9f-600d-4135-bafe-e0510171d991"
      },
      "outputs": [
        {
          "name": "stdout",
          "output_type": "stream",
          "text": [
            "Downloading data from https://storage.googleapis.com/tensorflow/keras-applications/densenet/densenet121_weights_tf_dim_ordering_tf_kernels_notop.h5\n",
            "\u001b[1m29084464/29084464\u001b[0m \u001b[32m━━━━━━━━━━━━━━━━━━━━\u001b[0m\u001b[37m\u001b[0m \u001b[1m0s\u001b[0m 0us/step\n",
            "Epoch 1/10\n",
            "\u001b[1m489/489\u001b[0m \u001b[32m━━━━━━━━━━━━━━━━━━━━\u001b[0m\u001b[37m\u001b[0m \u001b[1m51s\u001b[0m 79ms/step - accuracy: 0.7307 - loss: 1.0078 - val_accuracy: 0.9483 - val_loss: 0.1677\n",
            "Epoch 2/10\n",
            "\u001b[1m489/489\u001b[0m \u001b[32m━━━━━━━━━━━━━━━━━━━━\u001b[0m\u001b[37m\u001b[0m \u001b[1m10s\u001b[0m 14ms/step - accuracy: 0.9178 - loss: 0.2500 - val_accuracy: 0.9629 - val_loss: 0.1167\n",
            "Epoch 3/10\n",
            "\u001b[1m489/489\u001b[0m \u001b[32m━━━━━━━━━━━━━━━━━━━━\u001b[0m\u001b[37m\u001b[0m \u001b[1m7s\u001b[0m 14ms/step - accuracy: 0.9383 - loss: 0.1837 - val_accuracy: 0.9695 - val_loss: 0.0900\n",
            "Epoch 4/10\n",
            "\u001b[1m489/489\u001b[0m \u001b[32m━━━━━━━━━━━━━━━━━━━━\u001b[0m\u001b[37m\u001b[0m \u001b[1m7s\u001b[0m 14ms/step - accuracy: 0.9520 - loss: 0.1391 - val_accuracy: 0.9782 - val_loss: 0.0619\n",
            "Epoch 5/10\n",
            "\u001b[1m489/489\u001b[0m \u001b[32m━━━━━━━━━━━━━━━━━━━━\u001b[0m\u001b[37m\u001b[0m \u001b[1m7s\u001b[0m 15ms/step - accuracy: 0.9672 - loss: 0.0999 - val_accuracy: 0.9793 - val_loss: 0.0651\n",
            "Epoch 6/10\n",
            "\u001b[1m489/489\u001b[0m \u001b[32m━━━━━━━━━━━━━━━━━━━━\u001b[0m\u001b[37m\u001b[0m \u001b[1m7s\u001b[0m 14ms/step - accuracy: 0.9654 - loss: 0.0994 - val_accuracy: 0.9790 - val_loss: 0.0561\n",
            "Epoch 7/10\n",
            "\u001b[1m489/489\u001b[0m \u001b[32m━━━━━━━━━━━━━━━━━━━━\u001b[0m\u001b[37m\u001b[0m \u001b[1m7s\u001b[0m 14ms/step - accuracy: 0.9687 - loss: 0.0881 - val_accuracy: 0.9823 - val_loss: 0.0476\n",
            "Epoch 8/10\n",
            "\u001b[1m489/489\u001b[0m \u001b[32m━━━━━━━━━━━━━━━━━━━━\u001b[0m\u001b[37m\u001b[0m \u001b[1m7s\u001b[0m 14ms/step - accuracy: 0.9700 - loss: 0.0822 - val_accuracy: 0.9834 - val_loss: 0.0500\n",
            "Epoch 9/10\n",
            "\u001b[1m489/489\u001b[0m \u001b[32m━━━━━━━━━━━━━━━━━━━━\u001b[0m\u001b[37m\u001b[0m \u001b[1m7s\u001b[0m 14ms/step - accuracy: 0.9776 - loss: 0.0607 - val_accuracy: 0.9875 - val_loss: 0.0392\n",
            "Epoch 10/10\n",
            "\u001b[1m489/489\u001b[0m \u001b[32m━━━━━━━━━━━━━━━━━━━━\u001b[0m\u001b[37m\u001b[0m \u001b[1m7s\u001b[0m 13ms/step - accuracy: 0.9758 - loss: 0.0719 - val_accuracy: 0.9849 - val_loss: 0.0445\n",
            "\u001b[1m123/123\u001b[0m \u001b[32m━━━━━━━━━━━━━━━━━━━━\u001b[0m\u001b[37m\u001b[0m \u001b[1m1s\u001b[0m 10ms/step - accuracy: 0.9858 - loss: 0.0458\n"
          ]
        },
        {
          "name": "stderr",
          "output_type": "stream",
          "text": [
            "WARNING:absl:You are saving your model as an HDF5 file via `model.save()` or `keras.saving.save_model(model)`. This file format is considered legacy. We recommend using instead the native Keras format, e.g. `model.save('my_model.keras')` or `keras.saving.save_model(model, 'my_model.keras')`. \n"
          ]
        },
        {
          "name": "stdout",
          "output_type": "stream",
          "text": [
            "Test Accuracy: 98.49%\n"
          ]
        }
      ],
      "source": [
        "# prompt: train the above model using densenet\n",
        "\n",
        "from tensorflow.keras.applications import DenseNet121\n",
        "\n",
        "# Load the DenseNet121 model without the top (fully connected) layers\n",
        "base_model = DenseNet121(weights='imagenet', include_top=False, input_shape=(128, 128, 3))\n",
        "\n",
        "# Freeze the base model layers\n",
        "for layer in base_model.layers:\n",
        "    layer.trainable = False\n",
        "\n",
        "# Create a new model on top of the base model\n",
        "model = Sequential()\n",
        "model.add(base_model)\n",
        "model.add(tf.keras.layers.GlobalAveragePooling2D())\n",
        "model.add(Dense(256, activation='relu'))\n",
        "model.add(Dropout(0.5))\n",
        "model.add(Dense(num_classes, activation='softmax'))  # num_classes is from previous code\n",
        "\n",
        "# Compile the model\n",
        "model.compile(optimizer='adam',\n",
        "              loss='categorical_crossentropy',\n",
        "              metrics=['accuracy'])\n",
        "\n",
        "# Train the model\n",
        "history = model.fit(X_train, y_train_encoded, epochs=10, batch_size=32, validation_data=(X_test, y_test_encoded))\n",
        "\n",
        "# Evaluate the model\n",
        "loss, accuracy = model.evaluate(X_test, y_test_encoded)\n",
        "print(f'Test Accuracy: {accuracy * 100:.2f}%')\n",
        "\n",
        "# Save the entire model to a HDF5 file\n",
        "model.save(\"my_densenet_model.h5\")\n"
      ]
    },
    {
      "cell_type": "markdown",
      "metadata": {
        "id": "Ki4JHHPmTwQd"
      },
      "source": [
        "**15)Train the model using nasnet**"
      ]
    },
    {
      "cell_type": "code",
      "execution_count": null,
      "metadata": {
        "colab": {
          "base_uri": "https://localhost:8080/"
        },
        "id": "ITGLcKS3TnhN",
        "outputId": "40921500-3f46-49d1-9af5-a22dc8e85d4f"
      },
      "outputs": [
        {
          "name": "stdout",
          "output_type": "stream",
          "text": [
            "Downloading data from https://storage.googleapis.com/tensorflow/keras-applications/nasnet/NASNet-mobile-no-top.h5\n",
            "\u001b[1m19993432/19993432\u001b[0m \u001b[32m━━━━━━━━━━━━━━━━━━━━\u001b[0m\u001b[37m\u001b[0m \u001b[1m0s\u001b[0m 0us/step\n",
            "Epoch 1/10\n",
            "\u001b[1m489/489\u001b[0m \u001b[32m━━━━━━━━━━━━━━━━━━━━\u001b[0m\u001b[37m\u001b[0m \u001b[1m57s\u001b[0m 94ms/step - accuracy: 0.6680 - loss: 1.1783 - val_accuracy: 0.8989 - val_loss: 0.3359\n",
            "Epoch 2/10\n",
            "\u001b[1m489/489\u001b[0m \u001b[32m━━━━━━━━━━━━━━━━━━━━\u001b[0m\u001b[37m\u001b[0m \u001b[1m16s\u001b[0m 24ms/step - accuracy: 0.8685 - loss: 0.3963 - val_accuracy: 0.9214 - val_loss: 0.2469\n",
            "Epoch 3/10\n",
            "\u001b[1m489/489\u001b[0m \u001b[32m━━━━━━━━━━━━━━━━━━━━\u001b[0m\u001b[37m\u001b[0m \u001b[1m12s\u001b[0m 24ms/step - accuracy: 0.9053 - loss: 0.2908 - val_accuracy: 0.9363 - val_loss: 0.1991\n",
            "Epoch 4/10\n",
            "\u001b[1m489/489\u001b[0m \u001b[32m━━━━━━━━━━━━━━━━━━━━\u001b[0m\u001b[37m\u001b[0m \u001b[1m11s\u001b[0m 23ms/step - accuracy: 0.9250 - loss: 0.2322 - val_accuracy: 0.9514 - val_loss: 0.1553\n",
            "Epoch 5/10\n",
            "\u001b[1m489/489\u001b[0m \u001b[32m━━━━━━━━━━━━━━━━━━━━\u001b[0m\u001b[37m\u001b[0m \u001b[1m11s\u001b[0m 23ms/step - accuracy: 0.9379 - loss: 0.1867 - val_accuracy: 0.9508 - val_loss: 0.1506\n",
            "Epoch 6/10\n",
            "\u001b[1m489/489\u001b[0m \u001b[32m━━━━━━━━━━━━━━━━━━━━\u001b[0m\u001b[37m\u001b[0m \u001b[1m11s\u001b[0m 23ms/step - accuracy: 0.9513 - loss: 0.1513 - val_accuracy: 0.9580 - val_loss: 0.1353\n",
            "Epoch 7/10\n",
            "\u001b[1m489/489\u001b[0m \u001b[32m━━━━━━━━━━━━━━━━━━━━\u001b[0m\u001b[37m\u001b[0m \u001b[1m12s\u001b[0m 24ms/step - accuracy: 0.9481 - loss: 0.1525 - val_accuracy: 0.9575 - val_loss: 0.1353\n",
            "Epoch 8/10\n",
            "\u001b[1m489/489\u001b[0m \u001b[32m━━━━━━━━━━━━━━━━━━━━\u001b[0m\u001b[37m\u001b[0m \u001b[1m11s\u001b[0m 23ms/step - accuracy: 0.9572 - loss: 0.1255 - val_accuracy: 0.9606 - val_loss: 0.1210\n",
            "Epoch 9/10\n",
            "\u001b[1m489/489\u001b[0m \u001b[32m━━━━━━━━━━━━━━━━━━━━\u001b[0m\u001b[37m\u001b[0m \u001b[1m11s\u001b[0m 23ms/step - accuracy: 0.9615 - loss: 0.1170 - val_accuracy: 0.9636 - val_loss: 0.1252\n",
            "Epoch 10/10\n",
            "\u001b[1m489/489\u001b[0m \u001b[32m━━━━━━━━━━━━━━━━━━━━\u001b[0m\u001b[37m\u001b[0m \u001b[1m11s\u001b[0m 23ms/step - accuracy: 0.9627 - loss: 0.1102 - val_accuracy: 0.9626 - val_loss: 0.1246\n",
            "\u001b[1m123/123\u001b[0m \u001b[32m━━━━━━━━━━━━━━━━━━━━\u001b[0m\u001b[37m\u001b[0m \u001b[1m2s\u001b[0m 16ms/step - accuracy: 0.9628 - loss: 0.1186\n"
          ]
        },
        {
          "name": "stderr",
          "output_type": "stream",
          "text": [
            "WARNING:absl:You are saving your model as an HDF5 file via `model.save()` or `keras.saving.save_model(model)`. This file format is considered legacy. We recommend using instead the native Keras format, e.g. `model.save('my_model.keras')` or `keras.saving.save_model(model, 'my_model.keras')`. \n"
          ]
        },
        {
          "name": "stdout",
          "output_type": "stream",
          "text": [
            "Test Accuracy: 96.26%\n"
          ]
        }
      ],
      "source": [
        "# prompt: Train the model using nasnet\n",
        "\n",
        "# Load the NASNetMobile model without the top (fully connected) layers\n",
        "base_model = tf.keras.applications.NASNetMobile(weights='imagenet', include_top=False, input_shape=(128, 128, 3))\n",
        "\n",
        "# Freeze the base model layers\n",
        "for layer in base_model.layers:\n",
        "    layer.trainable = False\n",
        "\n",
        "# Create a new model on top of the base model\n",
        "model = Sequential()\n",
        "model.add(base_model)\n",
        "model.add(tf.keras.layers.GlobalAveragePooling2D())\n",
        "model.add(Dense(256, activation='relu'))\n",
        "model.add(Dropout(0.5))\n",
        "model.add(Dense(num_classes, activation='softmax'))  # num_classes is from previous code\n",
        "\n",
        "# Compile the model\n",
        "model.compile(optimizer='adam',\n",
        "              loss='categorical_crossentropy',\n",
        "              metrics=['accuracy'])\n",
        "\n",
        "# Train the model\n",
        "history = model.fit(X_train, y_train_encoded, epochs=10, batch_size=32, validation_data=(X_test, y_test_encoded))\n",
        "\n",
        "# Evaluate the model\n",
        "loss, accuracy = model.evaluate(X_test, y_test_encoded)\n",
        "print(f'Test Accuracy: {accuracy * 100:.2f}%')\n",
        "\n",
        "# Save the entire model to a HDF5 file\n",
        "model.save(\"my_nasnet_model.h5\")\n"
      ]
    },
    {
      "cell_type": "markdown",
      "metadata": {
        "id": "URv_NVI6YjLt"
      },
      "source": [
        "**16)train the model using xception**"
      ]
    },
    {
      "cell_type": "code",
      "execution_count": null,
      "metadata": {
        "colab": {
          "base_uri": "https://localhost:8080/"
        },
        "id": "Tgt8PET4Yek7",
        "outputId": "888a6d5b-658c-442e-91ae-39c24910f987"
      },
      "outputs": [
        {
          "name": "stdout",
          "output_type": "stream",
          "text": [
            "Downloading data from https://storage.googleapis.com/tensorflow/keras-applications/xception/xception_weights_tf_dim_ordering_tf_kernels_notop.h5\n",
            "\u001b[1m83683744/83683744\u001b[0m \u001b[32m━━━━━━━━━━━━━━━━━━━━\u001b[0m\u001b[37m\u001b[0m \u001b[1m0s\u001b[0m 0us/step\n",
            "Epoch 1/10\n",
            "\u001b[1m489/489\u001b[0m \u001b[32m━━━━━━━━━━━━━━━━━━━━\u001b[0m\u001b[37m\u001b[0m \u001b[1m23s\u001b[0m 39ms/step - accuracy: 0.7110 - loss: 1.0009 - val_accuracy: 0.9130 - val_loss: 0.2893\n",
            "Epoch 2/10\n",
            "\u001b[1m489/489\u001b[0m \u001b[32m━━━━━━━━━━━━━━━━━━━━\u001b[0m\u001b[37m\u001b[0m \u001b[1m10s\u001b[0m 17ms/step - accuracy: 0.8851 - loss: 0.3539 - val_accuracy: 0.9421 - val_loss: 0.1931\n",
            "Epoch 3/10\n",
            "\u001b[1m489/489\u001b[0m \u001b[32m━━━━━━━━━━━━━━━━━━━━\u001b[0m\u001b[37m\u001b[0m \u001b[1m9s\u001b[0m 17ms/step - accuracy: 0.9158 - loss: 0.2591 - val_accuracy: 0.9421 - val_loss: 0.1880\n",
            "Epoch 4/10\n",
            "\u001b[1m489/489\u001b[0m \u001b[32m━━━━━━━━━━━━━━━━━━━━\u001b[0m\u001b[37m\u001b[0m \u001b[1m9s\u001b[0m 18ms/step - accuracy: 0.9308 - loss: 0.2167 - val_accuracy: 0.9475 - val_loss: 0.1609\n",
            "Epoch 5/10\n",
            "\u001b[1m489/489\u001b[0m \u001b[32m━━━━━━━━━━━━━━━━━━━━\u001b[0m\u001b[37m\u001b[0m \u001b[1m8s\u001b[0m 17ms/step - accuracy: 0.9424 - loss: 0.1726 - val_accuracy: 0.9544 - val_loss: 0.1469\n",
            "Epoch 6/10\n",
            "\u001b[1m489/489\u001b[0m \u001b[32m━━━━━━━━━━━━━━━━━━━━\u001b[0m\u001b[37m\u001b[0m \u001b[1m9s\u001b[0m 17ms/step - accuracy: 0.9482 - loss: 0.1589 - val_accuracy: 0.9544 - val_loss: 0.1424\n",
            "Epoch 7/10\n",
            "\u001b[1m489/489\u001b[0m \u001b[32m━━━━━━━━━━━━━━━━━━━━\u001b[0m\u001b[37m\u001b[0m \u001b[1m8s\u001b[0m 17ms/step - accuracy: 0.9539 - loss: 0.1422 - val_accuracy: 0.9631 - val_loss: 0.1196\n",
            "Epoch 8/10\n",
            "\u001b[1m489/489\u001b[0m \u001b[32m━━━━━━━━━━━━━━━━━━━━\u001b[0m\u001b[37m\u001b[0m \u001b[1m8s\u001b[0m 17ms/step - accuracy: 0.9601 - loss: 0.1202 - val_accuracy: 0.9639 - val_loss: 0.1278\n",
            "Epoch 9/10\n",
            "\u001b[1m489/489\u001b[0m \u001b[32m━━━━━━━━━━━━━━━━━━━━\u001b[0m\u001b[37m\u001b[0m \u001b[1m8s\u001b[0m 17ms/step - accuracy: 0.9639 - loss: 0.1090 - val_accuracy: 0.9652 - val_loss: 0.1176\n",
            "Epoch 10/10\n",
            "\u001b[1m489/489\u001b[0m \u001b[32m━━━━━━━━━━━━━━━━━━━━\u001b[0m\u001b[37m\u001b[0m \u001b[1m8s\u001b[0m 17ms/step - accuracy: 0.9627 - loss: 0.1068 - val_accuracy: 0.9642 - val_loss: 0.1307\n",
            "\u001b[1m123/123\u001b[0m \u001b[32m━━━━━━━━━━━━━━━━━━━━\u001b[0m\u001b[37m\u001b[0m \u001b[1m2s\u001b[0m 13ms/step - accuracy: 0.9623 - loss: 0.1244\n"
          ]
        },
        {
          "name": "stderr",
          "output_type": "stream",
          "text": [
            "WARNING:absl:You are saving your model as an HDF5 file via `model.save()` or `keras.saving.save_model(model)`. This file format is considered legacy. We recommend using instead the native Keras format, e.g. `model.save('my_model.keras')` or `keras.saving.save_model(model, 'my_model.keras')`. \n"
          ]
        },
        {
          "name": "stdout",
          "output_type": "stream",
          "text": [
            "Test Accuracy: 96.42%\n"
          ]
        }
      ],
      "source": [
        "# prompt: train the model using xception\n",
        "\n",
        "# Load the Xception model without the top (fully connected) layers\n",
        "base_model = tf.keras.applications.Xception(weights='imagenet', include_top=False, input_shape=(128, 128, 3))\n",
        "\n",
        "# Freeze the base model layers\n",
        "for layer in base_model.layers:\n",
        "    layer.trainable = False\n",
        "\n",
        "# Create a new model on top of the base model\n",
        "model = Sequential()\n",
        "model.add(base_model)\n",
        "model.add(tf.keras.layers.GlobalAveragePooling2D())\n",
        "model.add(Dense(256, activation='relu'))\n",
        "model.add(Dropout(0.5))\n",
        "model.add(Dense(num_classes, activation='softmax'))  # num_classes is from previous code\n",
        "\n",
        "# Compile the model\n",
        "model.compile(optimizer='adam',\n",
        "              loss='categorical_crossentropy',\n",
        "              metrics=['accuracy'])\n",
        "\n",
        "# Train the model\n",
        "history = model.fit(X_train, y_train_encoded, epochs=10, batch_size=32, validation_data=(X_test, y_test_encoded))\n",
        "\n",
        "# Evaluate the model\n",
        "loss, accuracy = model.evaluate(X_test, y_test_encoded)\n",
        "print(f'Test Accuracy: {accuracy * 100:.2f}%')\n",
        "\n",
        "# Save the entire model to a HDF5 file\n",
        "model.save(\"my_xception_model.h5\")\n"
      ]
    },
    {
      "cell_type": "markdown",
      "source": [
        "**17)Train the model using Mobilenet**"
      ],
      "metadata": {
        "id": "pmCRdvmiu4O_"
      }
    },
    {
      "cell_type": "code",
      "execution_count": 8,
      "metadata": {
        "colab": {
          "base_uri": "https://localhost:8080/"
        },
        "id": "KQpTbsGj2Qf1",
        "outputId": "7aa0669b-27f1-4565-a072-fc0456e92f84"
      },
      "outputs": [
        {
          "output_type": "stream",
          "name": "stdout",
          "text": [
            "Downloading data from https://storage.googleapis.com/tensorflow/keras-applications/mobilenet_v2/mobilenet_v2_weights_tf_dim_ordering_tf_kernels_1.0_128_no_top.h5\n",
            "\u001b[1m9406464/9406464\u001b[0m \u001b[32m━━━━━━━━━━━━━━━━━━━━\u001b[0m\u001b[37m\u001b[0m \u001b[1m0s\u001b[0m 0us/step\n",
            "Epoch 1/10\n",
            "\u001b[1m489/489\u001b[0m \u001b[32m━━━━━━━━━━━━━━━━━━━━\u001b[0m\u001b[37m\u001b[0m \u001b[1m21s\u001b[0m 34ms/step - accuracy: 0.7783 - loss: 0.7580 - val_accuracy: 0.9601 - val_loss: 0.1228\n",
            "Epoch 2/10\n",
            "\u001b[1m489/489\u001b[0m \u001b[32m━━━━━━━━━━━━━━━━━━━━\u001b[0m\u001b[37m\u001b[0m \u001b[1m9s\u001b[0m 15ms/step - accuracy: 0.9509 - loss: 0.1554 - val_accuracy: 0.9713 - val_loss: 0.0925\n",
            "Epoch 3/10\n",
            "\u001b[1m489/489\u001b[0m \u001b[32m━━━━━━━━━━━━━━━━━━━━\u001b[0m\u001b[37m\u001b[0m \u001b[1m7s\u001b[0m 14ms/step - accuracy: 0.9657 - loss: 0.1020 - val_accuracy: 0.9795 - val_loss: 0.0653\n",
            "Epoch 4/10\n",
            "\u001b[1m489/489\u001b[0m \u001b[32m━━━━━━━━━━━━━━━━━━━━\u001b[0m\u001b[37m\u001b[0m \u001b[1m7s\u001b[0m 15ms/step - accuracy: 0.9730 - loss: 0.0777 - val_accuracy: 0.9821 - val_loss: 0.0558\n",
            "Epoch 5/10\n",
            "\u001b[1m489/489\u001b[0m \u001b[32m━━━━━━━━━━━━━━━━━━━━\u001b[0m\u001b[37m\u001b[0m \u001b[1m7s\u001b[0m 15ms/step - accuracy: 0.9787 - loss: 0.0652 - val_accuracy: 0.9831 - val_loss: 0.0537\n",
            "Epoch 6/10\n",
            "\u001b[1m489/489\u001b[0m \u001b[32m━━━━━━━━━━━━━━━━━━━━\u001b[0m\u001b[37m\u001b[0m \u001b[1m7s\u001b[0m 14ms/step - accuracy: 0.9817 - loss: 0.0593 - val_accuracy: 0.9803 - val_loss: 0.0568\n",
            "Epoch 7/10\n",
            "\u001b[1m489/489\u001b[0m \u001b[32m━━━━━━━━━━━━━━━━━━━━\u001b[0m\u001b[37m\u001b[0m \u001b[1m7s\u001b[0m 15ms/step - accuracy: 0.9792 - loss: 0.0600 - val_accuracy: 0.9823 - val_loss: 0.0595\n",
            "Epoch 8/10\n",
            "\u001b[1m489/489\u001b[0m \u001b[32m━━━━━━━━━━━━━━━━━━━━\u001b[0m\u001b[37m\u001b[0m \u001b[1m7s\u001b[0m 14ms/step - accuracy: 0.9823 - loss: 0.0508 - val_accuracy: 0.9803 - val_loss: 0.0620\n",
            "Epoch 9/10\n",
            "\u001b[1m489/489\u001b[0m \u001b[32m━━━━━━━━━━━━━━━━━━━━\u001b[0m\u001b[37m\u001b[0m \u001b[1m7s\u001b[0m 15ms/step - accuracy: 0.9861 - loss: 0.0405 - val_accuracy: 0.9854 - val_loss: 0.0536\n",
            "Epoch 10/10\n",
            "\u001b[1m489/489\u001b[0m \u001b[32m━━━━━━━━━━━━━━━━━━━━\u001b[0m\u001b[37m\u001b[0m \u001b[1m7s\u001b[0m 14ms/step - accuracy: 0.9840 - loss: 0.0491 - val_accuracy: 0.9854 - val_loss: 0.0483\n",
            "\u001b[1m123/123\u001b[0m \u001b[32m━━━━━━━━━━━━━━━━━━━━\u001b[0m\u001b[37m\u001b[0m \u001b[1m1s\u001b[0m 10ms/step - accuracy: 0.9837 - loss: 0.0523\n"
          ]
        },
        {
          "output_type": "stream",
          "name": "stderr",
          "text": [
            "WARNING:absl:You are saving your model as an HDF5 file via `model.save()` or `keras.saving.save_model(model)`. This file format is considered legacy. We recommend using instead the native Keras format, e.g. `model.save('my_model.keras')` or `keras.saving.save_model(model, 'my_model.keras')`. \n"
          ]
        },
        {
          "output_type": "stream",
          "name": "stdout",
          "text": [
            "Test Accuracy: 98.54%\n"
          ]
        }
      ],
      "source": [
        "# prompt: train the model using MobileNet to get high accuracy\n",
        "\n",
        "# Load the MobileNetV2 model without the top (fully connected) layers\n",
        "base_model = tf.keras.applications.MobileNetV2(weights='imagenet', include_top=False, input_shape=(128, 128, 3))\n",
        "\n",
        "# Freeze the base model layers\n",
        "for layer in base_model.layers:\n",
        "    layer.trainable = False\n",
        "\n",
        "\n",
        "# Create a new model on top of the base model\n",
        "model = Sequential()\n",
        "model.add(base_model)\n",
        "model.add(tf.keras.layers.GlobalAveragePooling2D())\n",
        "model.add(Dense(256, activation='relu'))\n",
        "model.add(Dropout(0.5))\n",
        "model.add(Dense(num_classes, activation='softmax'))  # num_classes is from previous code\n",
        "\n",
        "# Compile the model\n",
        "model.compile(optimizer='adam',\n",
        "              loss='categorical_crossentropy',\n",
        "              metrics=['accuracy'])\n",
        "\n",
        "# Train the model\n",
        "history = model.fit(X_train, y_train_encoded, epochs=10, batch_size=32, validation_data=(X_test, y_test_encoded))\n",
        "\n",
        "# Evaluate the model\n",
        "loss, accuracy = model.evaluate(X_test, y_test_encoded)\n",
        "print(f'Test Accuracy: {accuracy * 100:.2f}%')\n",
        "\n",
        "# Save the entire model to a HDF5 file\n",
        "model.save(\"my_mobilenet_model.h5\")\n"
      ]
    }
  ],
  "metadata": {
    "colab": {
      "provenance": [],
      "gpuType": "T4"
    },
    "kernelspec": {
      "display_name": "Python 3",
      "name": "python3"
    },
    "language_info": {
      "name": "python"
    },
    "accelerator": "GPU"
  },
  "nbformat": 4,
  "nbformat_minor": 0
}